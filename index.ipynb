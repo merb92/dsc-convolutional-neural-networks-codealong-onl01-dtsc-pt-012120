{
 "cells": [
  {
   "cell_type": "markdown",
   "metadata": {},
   "source": [
    "# Convolutional Neural Networks - Codealong\n",
    "\n",
    "## Introduction\n",
    "\n",
    "In this codealong, we will reinvestigate our previous Santa image classification example. To do this, we will review loading a dataset from a nested directory structure and building a baseline model. From there, we'll build a CNN and demonstrate its improved performance on image recognition tasks. It is recommended you run the cells in order to further explore variables and investigate the code snippets themselves. However, please note that some cells (particularly training cells later on) may take several minutes to run. (On a Macbook pro the entire notebook took ~15 minutes to run.)\n",
    "\n",
    "## Objectives  \n",
    "\n",
    "You will be able to:\n",
    "\n",
    "- Load images from a hierarchical file structure using an image datagenerator \n",
    "- Explain why one might augment image data when training a neural network \n",
    "- Apply data augmentation to image files before training a neural network \n",
    "- Build a CNN using Keras "
   ]
  },
  {
   "cell_type": "markdown",
   "metadata": {},
   "source": [
    "## Properly store your images \n",
    "\n",
    "When you're analyzing your image data, file management is important. We will be using the santa images again, but this time, they are stored in two folders: `santa` and `not_santa`. We want to work with a `train`, `validation`, and `test` datasets now, as we know by now that this is the best way to obtain unbiased estimate of your model performance.  \n",
    "\n",
    "Let's import libraries `os` and `shutil`, as we'll need them to create the new folders and move the new files in there."
   ]
  },
  {
   "cell_type": "code",
   "execution_count": 1,
   "metadata": {
    "ExecuteTime": {
     "end_time": "2020-08-11T17:55:31.336432Z",
     "start_time": "2020-08-11T17:55:31.333224Z"
    }
   },
   "outputs": [],
   "source": [
    "import os, shutil"
   ]
  },
  {
   "cell_type": "markdown",
   "metadata": {},
   "source": [
    "Below we create three objects representing the existing directories: `data/santa/` as `data_santa_dir` and `data/not_santa/` as `data_not_santa_dir`. We will create a new directory `split/` as `new_dir`, where we will split the dataset in three groups (or three subdirectories): `train`, `test`, and `validation`, each containing `santa` and `not_santa` subfolders. The final desired structure is represented below: \n",
    "\n",
    "![title](images/folder_structure.png)"
   ]
  },
  {
   "cell_type": "code",
   "execution_count": 2,
   "metadata": {
    "ExecuteTime": {
     "end_time": "2020-08-11T17:55:32.938418Z",
     "start_time": "2020-08-11T17:55:32.935263Z"
    }
   },
   "outputs": [],
   "source": [
    "data_santa_dir = 'data/santa/'\n",
    "data_not_santa_dir = 'data/not_santa/'\n",
    "new_dir = 'split/'"
   ]
  },
  {
   "cell_type": "markdown",
   "metadata": {},
   "source": [
    "You can use `os.listdir()` to create an object that stores all the relevant image names. "
   ]
  },
  {
   "cell_type": "code",
   "execution_count": 3,
   "metadata": {
    "ExecuteTime": {
     "end_time": "2020-08-11T17:55:35.414666Z",
     "start_time": "2020-08-11T17:55:35.410104Z"
    }
   },
   "outputs": [],
   "source": [
    "imgs_santa = [file for file in os.listdir(data_santa_dir) if file.endswith('.jpg')]"
   ]
  },
  {
   "cell_type": "code",
   "execution_count": 4,
   "metadata": {
    "ExecuteTime": {
     "end_time": "2020-08-11T17:55:36.256378Z",
     "start_time": "2020-08-11T17:55:36.242970Z"
    }
   },
   "outputs": [
    {
     "data": {
      "text/plain": [
       "['00000000.jpg',\n",
       " '00000001.jpg',\n",
       " '00000003.jpg',\n",
       " '00000004.jpg',\n",
       " '00000005.jpg',\n",
       " '00000006.jpg',\n",
       " '00000007.jpg',\n",
       " '00000008.jpg',\n",
       " '00000009.jpg',\n",
       " '00000010.jpg']"
      ]
     },
     "execution_count": 4,
     "metadata": {},
     "output_type": "execute_result"
    }
   ],
   "source": [
    "imgs_santa[0:10]"
   ]
  },
  {
   "cell_type": "markdown",
   "metadata": {},
   "source": [
    "Let's see how many images there are in the `santa` directory."
   ]
  },
  {
   "cell_type": "code",
   "execution_count": 5,
   "metadata": {
    "ExecuteTime": {
     "end_time": "2020-08-11T17:55:37.653266Z",
     "start_time": "2020-08-11T17:55:37.648750Z"
    }
   },
   "outputs": [
    {
     "name": "stdout",
     "output_type": "stream",
     "text": [
      "There are 461 santa images\n"
     ]
    }
   ],
   "source": [
    "print('There are', len(imgs_santa), 'santa images')"
   ]
  },
  {
   "cell_type": "markdown",
   "metadata": {},
   "source": [
    "Now, repeat this for the `not_santa` directory: "
   ]
  },
  {
   "cell_type": "code",
   "execution_count": 6,
   "metadata": {
    "ExecuteTime": {
     "end_time": "2020-08-11T17:55:38.957836Z",
     "start_time": "2020-08-11T17:55:38.953070Z"
    }
   },
   "outputs": [],
   "source": [
    "imgs_not_santa = [file for file in os.listdir(data_not_santa_dir) if file.endswith('.jpg')]"
   ]
  },
  {
   "cell_type": "code",
   "execution_count": 7,
   "metadata": {
    "ExecuteTime": {
     "end_time": "2020-08-11T17:55:40.027131Z",
     "start_time": "2020-08-11T17:55:40.022379Z"
    }
   },
   "outputs": [
    {
     "name": "stdout",
     "output_type": "stream",
     "text": [
      "There are 461 images without santa\n"
     ]
    }
   ],
   "source": [
    "print('There are', len(imgs_not_santa), 'images without santa')"
   ]
  },
  {
   "cell_type": "markdown",
   "metadata": {},
   "source": [
    "Create all the folders and subfolders in order to get the structure represented above. You can use `os.path.join()` to create strings that will be used later on to generate new directories."
   ]
  },
  {
   "cell_type": "code",
   "execution_count": 8,
   "metadata": {
    "ExecuteTime": {
     "end_time": "2020-08-11T17:55:41.477622Z",
     "start_time": "2020-08-11T17:55:41.474333Z"
    }
   },
   "outputs": [],
   "source": [
    "os.mkdir(new_dir)"
   ]
  },
  {
   "cell_type": "code",
   "execution_count": 9,
   "metadata": {
    "ExecuteTime": {
     "end_time": "2020-08-11T17:55:42.403349Z",
     "start_time": "2020-08-11T17:55:42.396201Z"
    }
   },
   "outputs": [],
   "source": [
    "train_folder = os.path.join(new_dir, 'train')\n",
    "train_santa = os.path.join(train_folder, 'santa')\n",
    "train_not_santa = os.path.join(train_folder, 'not_santa')\n",
    "\n",
    "test_folder = os.path.join(new_dir, 'test')\n",
    "test_santa = os.path.join(test_folder, 'santa')\n",
    "test_not_santa = os.path.join(test_folder, 'not_santa')\n",
    "\n",
    "val_folder = os.path.join(new_dir, 'validation')\n",
    "val_santa = os.path.join(val_folder, 'santa')\n",
    "val_not_santa = os.path.join(val_folder, 'not_santa')"
   ]
  },
  {
   "cell_type": "code",
   "execution_count": 10,
   "metadata": {
    "ExecuteTime": {
     "end_time": "2020-08-11T17:55:43.291419Z",
     "start_time": "2020-08-11T17:55:43.286787Z"
    }
   },
   "outputs": [
    {
     "data": {
      "text/plain": [
       "'split/train/santa'"
      ]
     },
     "execution_count": 10,
     "metadata": {},
     "output_type": "execute_result"
    }
   ],
   "source": [
    "train_santa"
   ]
  },
  {
   "cell_type": "markdown",
   "metadata": {},
   "source": [
    "Now use all the path strings you created to make new directories. You can use `os.mkdir()` to do this. Go have a look at your directory and see if this worked!"
   ]
  },
  {
   "cell_type": "code",
   "execution_count": 11,
   "metadata": {
    "ExecuteTime": {
     "end_time": "2020-08-11T17:55:44.809350Z",
     "start_time": "2020-08-11T17:55:44.803381Z"
    }
   },
   "outputs": [],
   "source": [
    "os.mkdir(test_folder)\n",
    "os.mkdir(test_santa)\n",
    "os.mkdir(test_not_santa)\n",
    "\n",
    "os.mkdir(train_folder)\n",
    "os.mkdir(train_santa)\n",
    "os.mkdir(train_not_santa)\n",
    "\n",
    "os.mkdir(val_folder)\n",
    "os.mkdir(val_santa)\n",
    "os.mkdir(val_not_santa)"
   ]
  },
  {
   "cell_type": "markdown",
   "metadata": {},
   "source": [
    "Copy the Santa images in the three santa subfolders. Let's put the first 271 images in the training set, the next 100 images in the validation set and the final 90 images in the test set."
   ]
  },
  {
   "cell_type": "code",
   "execution_count": 12,
   "metadata": {
    "ExecuteTime": {
     "end_time": "2020-08-11T17:55:47.055108Z",
     "start_time": "2020-08-11T17:55:46.366929Z"
    }
   },
   "outputs": [],
   "source": [
    "# train santa\n",
    "imgs = imgs_santa[:271]\n",
    "for img in imgs:\n",
    "    origin = os.path.join(data_santa_dir, img)\n",
    "    destination = os.path.join(train_santa, img)\n",
    "    shutil.copyfile(origin, destination)"
   ]
  },
  {
   "cell_type": "code",
   "execution_count": 13,
   "metadata": {
    "ExecuteTime": {
     "end_time": "2020-08-11T17:55:48.257601Z",
     "start_time": "2020-08-11T17:55:48.077043Z"
    }
   },
   "outputs": [],
   "source": [
    "# validation santa\n",
    "imgs = imgs_santa[271:371]\n",
    "for img in imgs:\n",
    "    origin = os.path.join(data_santa_dir, img)\n",
    "    destination = os.path.join(val_santa, img)\n",
    "    shutil.copyfile(origin, destination)"
   ]
  },
  {
   "cell_type": "code",
   "execution_count": 14,
   "metadata": {
    "ExecuteTime": {
     "end_time": "2020-08-11T17:55:51.170710Z",
     "start_time": "2020-08-11T17:55:51.058521Z"
    }
   },
   "outputs": [],
   "source": [
    "# test santa\n",
    "imgs = imgs_santa[371:]\n",
    "for img in imgs:\n",
    "    origin = os.path.join(data_santa_dir, img)\n",
    "    destination = os.path.join(test_santa, img)\n",
    "    shutil.copyfile(origin, destination)"
   ]
  },
  {
   "cell_type": "markdown",
   "metadata": {},
   "source": [
    "Now, repeat all this for the `not_santa` images!"
   ]
  },
  {
   "cell_type": "code",
   "execution_count": 15,
   "metadata": {
    "ExecuteTime": {
     "end_time": "2020-08-11T17:55:53.871801Z",
     "start_time": "2020-08-11T17:55:53.139500Z"
    }
   },
   "outputs": [],
   "source": [
    "# train not_santa\n",
    "imgs = imgs_not_santa[:271]\n",
    "for img in imgs:\n",
    "    origin = os.path.join(data_not_santa_dir, img)\n",
    "    destination = os.path.join(train_not_santa, img)\n",
    "    shutil.copyfile(origin, destination)\n",
    "# validation not_santa\n",
    "imgs = imgs_not_santa[271:371]\n",
    "for img in imgs:\n",
    "    origin = os.path.join(data_not_santa_dir, img)\n",
    "    destination = os.path.join(val_not_santa, img)\n",
    "    shutil.copyfile(origin, destination)\n",
    "# test not_santa\n",
    "imgs = imgs_not_santa[371:]\n",
    "for img in imgs:\n",
    "    origin = os.path.join(data_not_santa_dir, img)\n",
    "    destination = os.path.join(test_not_santa, img)\n",
    "    shutil.copyfile(origin, destination)"
   ]
  },
  {
   "cell_type": "markdown",
   "metadata": {},
   "source": [
    "Let's print out how many images we have in each directory so we know for sure our numbers are right!"
   ]
  },
  {
   "cell_type": "code",
   "execution_count": 16,
   "metadata": {
    "ExecuteTime": {
     "end_time": "2020-08-11T17:55:55.259365Z",
     "start_time": "2020-08-11T17:55:55.254492Z"
    }
   },
   "outputs": [
    {
     "name": "stdout",
     "output_type": "stream",
     "text": [
      "There are 271 santa images in the training set\n"
     ]
    }
   ],
   "source": [
    "print('There are', len(os.listdir(train_santa)), 'santa images in the training set')"
   ]
  },
  {
   "cell_type": "code",
   "execution_count": 17,
   "metadata": {
    "ExecuteTime": {
     "end_time": "2020-08-11T17:55:56.216535Z",
     "start_time": "2020-08-11T17:55:56.211627Z"
    }
   },
   "outputs": [
    {
     "name": "stdout",
     "output_type": "stream",
     "text": [
      "There are 100 santa images in the validation set\n"
     ]
    }
   ],
   "source": [
    "print('There are', len(os.listdir(val_santa)), 'santa images in the validation set')"
   ]
  },
  {
   "cell_type": "code",
   "execution_count": 18,
   "metadata": {
    "ExecuteTime": {
     "end_time": "2020-08-11T17:55:57.005002Z",
     "start_time": "2020-08-11T17:55:56.999901Z"
    }
   },
   "outputs": [
    {
     "name": "stdout",
     "output_type": "stream",
     "text": [
      "There are 90 santa images in the test set\n"
     ]
    }
   ],
   "source": [
    "print('There are', len(os.listdir(test_santa)), 'santa images in the test set')"
   ]
  },
  {
   "cell_type": "code",
   "execution_count": 19,
   "metadata": {
    "ExecuteTime": {
     "end_time": "2020-08-11T17:56:00.165232Z",
     "start_time": "2020-08-11T17:56:00.160076Z"
    }
   },
   "outputs": [
    {
     "name": "stdout",
     "output_type": "stream",
     "text": [
      "There are 271 images without santa in the train set\n"
     ]
    }
   ],
   "source": [
    "print('There are', len(os.listdir(train_not_santa)), 'images without santa in the train set')"
   ]
  },
  {
   "cell_type": "code",
   "execution_count": 20,
   "metadata": {
    "ExecuteTime": {
     "end_time": "2020-08-11T17:56:00.884449Z",
     "start_time": "2020-08-11T17:56:00.879826Z"
    }
   },
   "outputs": [
    {
     "name": "stdout",
     "output_type": "stream",
     "text": [
      "There are 100 images without santa in the validation set\n"
     ]
    }
   ],
   "source": [
    "print('There are', len(os.listdir(val_not_santa)), 'images without santa in the validation set')"
   ]
  },
  {
   "cell_type": "code",
   "execution_count": 21,
   "metadata": {
    "ExecuteTime": {
     "end_time": "2020-08-11T17:56:01.458701Z",
     "start_time": "2020-08-11T17:56:01.453576Z"
    }
   },
   "outputs": [
    {
     "name": "stdout",
     "output_type": "stream",
     "text": [
      "There are 90 images without santa in the test set\n"
     ]
    }
   ],
   "source": [
    "print('There are', len(os.listdir(test_not_santa)), 'images without santa in the test set')"
   ]
  },
  {
   "cell_type": "markdown",
   "metadata": {},
   "source": [
    "## Use a densely connected network as a baseline"
   ]
  },
  {
   "cell_type": "markdown",
   "metadata": {},
   "source": [
    "Now that we've a handle on our data, we can easily use Keras' module with image-processing tools. Let's import the necessary libraries below. "
   ]
  },
  {
   "cell_type": "code",
   "execution_count": 22,
   "metadata": {
    "ExecuteTime": {
     "end_time": "2020-08-11T19:04:47.456509Z",
     "start_time": "2020-08-11T19:04:20.548706Z"
    }
   },
   "outputs": [
    {
     "name": "stderr",
     "output_type": "stream",
     "text": [
      "Using TensorFlow backend.\n"
     ]
    }
   ],
   "source": [
    "import time\n",
    "import matplotlib.pyplot as plt\n",
    "import scipy\n",
    "import numpy as np\n",
    "from PIL import Image\n",
    "from scipy import ndimage\n",
    "from keras.preprocessing.image import ImageDataGenerator, array_to_img, img_to_array, load_img\n",
    "\n",
    "np.random.seed(123)"
   ]
  },
  {
   "cell_type": "code",
   "execution_count": 23,
   "metadata": {
    "ExecuteTime": {
     "end_time": "2020-08-11T19:04:55.603314Z",
     "start_time": "2020-08-11T19:04:55.247428Z"
    }
   },
   "outputs": [
    {
     "name": "stdout",
     "output_type": "stream",
     "text": [
      "Found 180 images belonging to 2 classes.\n",
      "Found 200 images belonging to 2 classes.\n",
      "Found 542 images belonging to 2 classes.\n"
     ]
    }
   ],
   "source": [
    "# get all the data in the directory split/test (180 images), and reshape them\n",
    "test_generator = ImageDataGenerator(rescale=1./255).flow_from_directory(\n",
    "        test_folder, \n",
    "        target_size=(64, 64), batch_size = 180) \n",
    "\n",
    "# get all the data in the directory split/validation (200 images), and reshape them\n",
    "val_generator = ImageDataGenerator(rescale=1./255).flow_from_directory(\n",
    "        val_folder, \n",
    "        target_size=(64, 64), batch_size = 200)\n",
    "\n",
    "# get all the data in the directory split/train (542 images), and reshape them\n",
    "train_generator = ImageDataGenerator(rescale=1./255).flow_from_directory(\n",
    "        train_folder, \n",
    "        target_size=(64, 64), batch_size=542)"
   ]
  },
  {
   "cell_type": "code",
   "execution_count": 24,
   "metadata": {
    "ExecuteTime": {
     "end_time": "2020-08-11T19:05:26.398602Z",
     "start_time": "2020-08-11T19:05:02.267331Z"
    }
   },
   "outputs": [],
   "source": [
    "# create the data sets\n",
    "train_images, train_labels = next(train_generator)\n",
    "test_images, test_labels = next(test_generator)\n",
    "val_images, val_labels = next(val_generator)"
   ]
  },
  {
   "cell_type": "code",
   "execution_count": 25,
   "metadata": {
    "ExecuteTime": {
     "end_time": "2020-08-11T19:05:45.230546Z",
     "start_time": "2020-08-11T19:05:45.220087Z"
    }
   },
   "outputs": [
    {
     "name": "stdout",
     "output_type": "stream",
     "text": [
      "Number of training samples: 542\n",
      "Number of testing samples: 180\n",
      "Number of validation samples: 200\n",
      "train_images shape: (542, 64, 64, 3)\n",
      "train_labels shape: (542, 2)\n",
      "test_images shape: (180, 64, 64, 3)\n",
      "test_labels shape: (180, 2)\n",
      "val_images shape: (200, 64, 64, 3)\n",
      "val_labels shape: (200, 2)\n"
     ]
    }
   ],
   "source": [
    "# Explore your dataset again\n",
    "m_train = train_images.shape[0]\n",
    "num_px = train_images.shape[1]\n",
    "m_test = test_images.shape[0]\n",
    "m_val = val_images.shape[0]\n",
    "\n",
    "print (\"Number of training samples: \" + str(m_train))\n",
    "print (\"Number of testing samples: \" + str(m_test))\n",
    "print (\"Number of validation samples: \" + str(m_val))\n",
    "print (\"train_images shape: \" + str(train_images.shape))\n",
    "print (\"train_labels shape: \" + str(train_labels.shape))\n",
    "print (\"test_images shape: \" + str(test_images.shape))\n",
    "print (\"test_labels shape: \" + str(test_labels.shape))\n",
    "print (\"val_images shape: \" + str(val_images.shape))\n",
    "print (\"val_labels shape: \" + str(val_labels.shape))"
   ]
  },
  {
   "cell_type": "code",
   "execution_count": 26,
   "metadata": {
    "ExecuteTime": {
     "end_time": "2020-08-11T19:06:04.983046Z",
     "start_time": "2020-08-11T19:06:04.976367Z"
    }
   },
   "outputs": [
    {
     "name": "stdout",
     "output_type": "stream",
     "text": [
      "(542, 12288)\n",
      "(180, 12288)\n",
      "(200, 12288)\n"
     ]
    }
   ],
   "source": [
    "train_img = train_images.reshape(train_images.shape[0], -1)\n",
    "test_img = test_images.reshape(test_images.shape[0], -1)\n",
    "val_img = val_images.reshape(val_images.shape[0], -1)\n",
    "\n",
    "print(train_img.shape)\n",
    "print(test_img.shape)\n",
    "print(val_img.shape)"
   ]
  },
  {
   "cell_type": "code",
   "execution_count": 27,
   "metadata": {
    "ExecuteTime": {
     "end_time": "2020-08-11T19:06:18.537080Z",
     "start_time": "2020-08-11T19:06:18.532271Z"
    }
   },
   "outputs": [],
   "source": [
    "train_y = np.reshape(train_labels[:,0], (542,1))\n",
    "test_y = np.reshape(test_labels[:,0], (180,1))\n",
    "val_y = np.reshape(val_labels[:,0], (200,1))"
   ]
  },
  {
   "cell_type": "code",
   "execution_count": 28,
   "metadata": {
    "ExecuteTime": {
     "end_time": "2020-08-11T19:06:56.971773Z",
     "start_time": "2020-08-11T19:06:56.839151Z"
    }
   },
   "outputs": [],
   "source": [
    "# Build a baseline fully connected model\n",
    "from keras import models\n",
    "from keras import layers\n",
    "np.random.seed(123)\n",
    "model = models.Sequential()\n",
    "model.add(layers.Dense(20, activation='relu', input_shape=(12288,))) # 2 hidden layers\n",
    "model.add(layers.Dense(7, activation='relu'))\n",
    "model.add(layers.Dense(5, activation='relu'))\n",
    "model.add(layers.Dense(1, activation='sigmoid'))"
   ]
  },
  {
   "cell_type": "code",
   "execution_count": 29,
   "metadata": {
    "ExecuteTime": {
     "end_time": "2020-08-11T19:07:06.282678Z",
     "start_time": "2020-08-11T19:07:00.360957Z"
    }
   },
   "outputs": [
    {
     "name": "stdout",
     "output_type": "stream",
     "text": [
      "Train on 542 samples, validate on 200 samples\n",
      "Epoch 1/50\n",
      "542/542 [==============================] - 0s 692us/step - loss: 0.7017 - acc: 0.5055 - val_loss: 0.6781 - val_acc: 0.4900\n",
      "Epoch 2/50\n",
      "542/542 [==============================] - 0s 199us/step - loss: 0.6808 - acc: 0.5074 - val_loss: 0.6699 - val_acc: 0.4950\n",
      "Epoch 3/50\n",
      "542/542 [==============================] - 0s 191us/step - loss: 0.6735 - acc: 0.5240 - val_loss: 0.6633 - val_acc: 0.5300\n",
      "Epoch 4/50\n",
      "542/542 [==============================] - 0s 199us/step - loss: 0.6644 - acc: 0.5683 - val_loss: 0.6540 - val_acc: 0.5150\n",
      "Epoch 5/50\n",
      "542/542 [==============================] - 0s 200us/step - loss: 0.6574 - acc: 0.5701 - val_loss: 0.6483 - val_acc: 0.5150\n",
      "Epoch 6/50\n",
      "542/542 [==============================] - 0s 199us/step - loss: 0.6472 - acc: 0.5904 - val_loss: 0.6357 - val_acc: 0.5800\n",
      "Epoch 7/50\n",
      "542/542 [==============================] - 0s 204us/step - loss: 0.6319 - acc: 0.6513 - val_loss: 0.6257 - val_acc: 0.6050\n",
      "Epoch 8/50\n",
      "542/542 [==============================] - 0s 199us/step - loss: 0.6232 - acc: 0.6384 - val_loss: 0.6347 - val_acc: 0.7350\n",
      "Epoch 9/50\n",
      "542/542 [==============================] - 0s 191us/step - loss: 0.6184 - acc: 0.6605 - val_loss: 0.6052 - val_acc: 0.7100\n",
      "Epoch 10/50\n",
      "542/542 [==============================] - 0s 198us/step - loss: 0.5990 - acc: 0.6937 - val_loss: 0.6046 - val_acc: 0.7850\n",
      "Epoch 11/50\n",
      "542/542 [==============================] - 0s 188us/step - loss: 0.5814 - acc: 0.7232 - val_loss: 0.5902 - val_acc: 0.5900\n",
      "Epoch 12/50\n",
      "542/542 [==============================] - 0s 193us/step - loss: 0.5831 - acc: 0.7196 - val_loss: 0.5994 - val_acc: 0.5550\n",
      "Epoch 13/50\n",
      "542/542 [==============================] - 0s 212us/step - loss: 0.5701 - acc: 0.7343 - val_loss: 0.5625 - val_acc: 0.6500\n",
      "Epoch 14/50\n",
      "542/542 [==============================] - 0s 198us/step - loss: 0.5507 - acc: 0.7528 - val_loss: 0.5480 - val_acc: 0.7600\n",
      "Epoch 15/50\n",
      "542/542 [==============================] - 0s 191us/step - loss: 0.5561 - acc: 0.7325 - val_loss: 0.8251 - val_acc: 0.5350\n",
      "Epoch 16/50\n",
      "542/542 [==============================] - 0s 191us/step - loss: 0.5167 - acc: 0.7620 - val_loss: 0.5066 - val_acc: 0.7900\n",
      "Epoch 17/50\n",
      "542/542 [==============================] - 0s 198us/step - loss: 0.5350 - acc: 0.7454 - val_loss: 0.4990 - val_acc: 0.7800\n",
      "Epoch 18/50\n",
      "542/542 [==============================] - 0s 200us/step - loss: 0.5562 - acc: 0.7288 - val_loss: 0.5286 - val_acc: 0.7450\n",
      "Epoch 19/50\n",
      "542/542 [==============================] - 0s 206us/step - loss: 0.4751 - acc: 0.7989 - val_loss: 0.5071 - val_acc: 0.7650\n",
      "Epoch 20/50\n",
      "542/542 [==============================] - 0s 200us/step - loss: 0.5088 - acc: 0.7768 - val_loss: 0.5602 - val_acc: 0.7000\n",
      "Epoch 21/50\n",
      "542/542 [==============================] - 0s 191us/step - loss: 0.4258 - acc: 0.8358 - val_loss: 0.5656 - val_acc: 0.6600\n",
      "Epoch 22/50\n",
      "542/542 [==============================] - 0s 195us/step - loss: 0.4719 - acc: 0.7694 - val_loss: 0.5819 - val_acc: 0.6950\n",
      "Epoch 23/50\n",
      "542/542 [==============================] - 0s 206us/step - loss: 0.4533 - acc: 0.7878 - val_loss: 0.4543 - val_acc: 0.7950\n",
      "Epoch 24/50\n",
      "542/542 [==============================] - 0s 203us/step - loss: 0.4058 - acc: 0.8284 - val_loss: 0.4794 - val_acc: 0.7750\n",
      "Epoch 25/50\n",
      "542/542 [==============================] - 0s 202us/step - loss: 0.4345 - acc: 0.7952 - val_loss: 0.5050 - val_acc: 0.7150\n",
      "Epoch 26/50\n",
      "542/542 [==============================] - 0s 201us/step - loss: 0.3756 - acc: 0.8524 - val_loss: 0.4557 - val_acc: 0.7950\n",
      "Epoch 27/50\n",
      "542/542 [==============================] - 0s 195us/step - loss: 0.3628 - acc: 0.8395 - val_loss: 0.4893 - val_acc: 0.7450\n",
      "Epoch 28/50\n",
      "542/542 [==============================] - 0s 193us/step - loss: 0.4564 - acc: 0.7915 - val_loss: 0.8012 - val_acc: 0.6350\n",
      "Epoch 29/50\n",
      "542/542 [==============================] - 0s 201us/step - loss: 0.3379 - acc: 0.8672 - val_loss: 0.5196 - val_acc: 0.7250\n",
      "Epoch 30/50\n",
      "542/542 [==============================] - 0s 191us/step - loss: 0.3021 - acc: 0.8875 - val_loss: 1.0804 - val_acc: 0.5900\n",
      "Epoch 31/50\n",
      "542/542 [==============================] - 0s 200us/step - loss: 0.4019 - acc: 0.8358 - val_loss: 0.4976 - val_acc: 0.7300\n",
      "Epoch 32/50\n",
      "542/542 [==============================] - 0s 194us/step - loss: 0.3571 - acc: 0.8524 - val_loss: 0.4365 - val_acc: 0.8100\n",
      "Epoch 33/50\n",
      "542/542 [==============================] - 0s 201us/step - loss: 0.3650 - acc: 0.8432 - val_loss: 0.4679 - val_acc: 0.7850\n",
      "Epoch 34/50\n",
      "542/542 [==============================] - 0s 201us/step - loss: 0.2771 - acc: 0.8948 - val_loss: 0.5601 - val_acc: 0.7300\n",
      "Epoch 35/50\n",
      "542/542 [==============================] - 0s 200us/step - loss: 0.2944 - acc: 0.9041 - val_loss: 0.4915 - val_acc: 0.7500\n",
      "Epoch 36/50\n",
      "542/542 [==============================] - 0s 196us/step - loss: 0.2961 - acc: 0.8764 - val_loss: 0.5643 - val_acc: 0.7350\n",
      "Epoch 37/50\n",
      "542/542 [==============================] - 0s 201us/step - loss: 0.4068 - acc: 0.8210 - val_loss: 0.5482 - val_acc: 0.7150\n",
      "Epoch 38/50\n",
      "542/542 [==============================] - 0s 190us/step - loss: 0.2445 - acc: 0.9188 - val_loss: 0.6703 - val_acc: 0.6650\n",
      "Epoch 39/50\n",
      "542/542 [==============================] - 0s 193us/step - loss: 0.3198 - acc: 0.8764 - val_loss: 0.5012 - val_acc: 0.7700\n",
      "Epoch 40/50\n",
      "542/542 [==============================] - 0s 197us/step - loss: 0.2575 - acc: 0.9059 - val_loss: 0.5082 - val_acc: 0.7550\n",
      "Epoch 41/50\n",
      "542/542 [==============================] - 0s 186us/step - loss: 0.2644 - acc: 0.9151 - val_loss: 0.4584 - val_acc: 0.8100\n",
      "Epoch 42/50\n",
      "542/542 [==============================] - 0s 193us/step - loss: 0.2589 - acc: 0.8893 - val_loss: 0.4477 - val_acc: 0.8150\n",
      "Epoch 43/50\n",
      "542/542 [==============================] - 0s 195us/step - loss: 0.1949 - acc: 0.9391 - val_loss: 0.5841 - val_acc: 0.7350\n",
      "Epoch 44/50\n",
      "542/542 [==============================] - 0s 189us/step - loss: 0.2894 - acc: 0.8875 - val_loss: 0.4921 - val_acc: 0.7900\n",
      "Epoch 45/50\n",
      "542/542 [==============================] - 0s 186us/step - loss: 0.3050 - acc: 0.8838 - val_loss: 0.4359 - val_acc: 0.8250\n",
      "Epoch 46/50\n",
      "542/542 [==============================] - 0s 194us/step - loss: 0.2548 - acc: 0.9114 - val_loss: 0.4426 - val_acc: 0.8250\n",
      "Epoch 47/50\n",
      "542/542 [==============================] - 0s 196us/step - loss: 0.2210 - acc: 0.9096 - val_loss: 0.5328 - val_acc: 0.7300\n",
      "Epoch 48/50\n",
      "542/542 [==============================] - 0s 185us/step - loss: 0.1702 - acc: 0.9465 - val_loss: 0.5693 - val_acc: 0.7550\n",
      "Epoch 49/50\n",
      "542/542 [==============================] - 0s 200us/step - loss: 0.1890 - acc: 0.9262 - val_loss: 0.5487 - val_acc: 0.7550\n",
      "Epoch 50/50\n",
      "542/542 [==============================] - 0s 196us/step - loss: 0.1435 - acc: 0.9594 - val_loss: 0.4548 - val_acc: 0.8250\n"
     ]
    }
   ],
   "source": [
    "model.compile(optimizer='sgd',\n",
    "              loss='binary_crossentropy',\n",
    "              metrics=['accuracy'])\n",
    "\n",
    "histoire = model.fit(train_img,\n",
    "                    train_y,\n",
    "                    epochs=50,\n",
    "                    batch_size=32,\n",
    "                    validation_data=(val_img, val_y))"
   ]
  },
  {
   "cell_type": "code",
   "execution_count": 30,
   "metadata": {
    "ExecuteTime": {
     "end_time": "2020-08-11T19:07:14.807891Z",
     "start_time": "2020-08-11T19:07:14.759148Z"
    }
   },
   "outputs": [
    {
     "name": "stdout",
     "output_type": "stream",
     "text": [
      "542/542 [==============================] - 0s 82us/step\n"
     ]
    }
   ],
   "source": [
    "results_train = model.evaluate(train_img, train_y)"
   ]
  },
  {
   "cell_type": "code",
   "execution_count": 31,
   "metadata": {
    "ExecuteTime": {
     "end_time": "2020-08-11T19:07:15.826676Z",
     "start_time": "2020-08-11T19:07:15.805196Z"
    }
   },
   "outputs": [
    {
     "name": "stdout",
     "output_type": "stream",
     "text": [
      "180/180 [==============================] - 0s 94us/step\n"
     ]
    }
   ],
   "source": [
    "results_test = model.evaluate(test_img, test_y)"
   ]
  },
  {
   "cell_type": "code",
   "execution_count": 32,
   "metadata": {
    "ExecuteTime": {
     "end_time": "2020-08-11T19:07:18.285138Z",
     "start_time": "2020-08-11T19:07:18.280388Z"
    }
   },
   "outputs": [
    {
     "data": {
      "text/plain": [
       "[0.11321219136574172, 0.9760147603675449]"
      ]
     },
     "execution_count": 32,
     "metadata": {},
     "output_type": "execute_result"
    }
   ],
   "source": [
    "results_train"
   ]
  },
  {
   "cell_type": "code",
   "execution_count": 33,
   "metadata": {
    "ExecuteTime": {
     "end_time": "2020-08-11T19:07:19.826008Z",
     "start_time": "2020-08-11T19:07:19.821474Z"
    }
   },
   "outputs": [
    {
     "data": {
      "text/plain": [
       "[0.4951602538426717, 0.8222222235467699]"
      ]
     },
     "execution_count": 33,
     "metadata": {},
     "output_type": "execute_result"
    }
   ],
   "source": [
    "results_test"
   ]
  },
  {
   "cell_type": "markdown",
   "metadata": {},
   "source": [
    "Remember that, in our previous lab on building deeper neural networks from scratch, we obtained a training accuracy of 95%, and a test set accuracy of 74.23%. \n",
    "\n",
    "This result is similar to what we got building our manual \"deeper\" dense model. The results are not entirely different. This is not a surprise!\n",
    "- Before, we only had a training and a validation set (which was at the same time the test set). Now we have split up the data 3-ways.\n",
    "- We didn't use minibatches before, yet we used mini-batches of 32 units here.\n",
    " \n",
    "## Build a CNN"
   ]
  },
  {
   "cell_type": "code",
   "execution_count": 34,
   "metadata": {
    "ExecuteTime": {
     "end_time": "2020-08-11T19:09:53.289128Z",
     "start_time": "2020-08-11T19:09:53.103978Z"
    }
   },
   "outputs": [],
   "source": [
    "model = models.Sequential()\n",
    "model.add(layers.Conv2D(32, (3, 3), activation='relu',\n",
    "                        input_shape=(64 ,64,  3)))\n",
    "model.add(layers.MaxPooling2D((2, 2)))\n",
    "\n",
    "model.add(layers.Conv2D(32, (4, 4), activation='relu'))\n",
    "model.add(layers.MaxPooling2D((2, 2)))\n",
    "\n",
    "model.add(layers.Conv2D(64, (3, 3), activation='relu'))\n",
    "model.add(layers.MaxPooling2D((2, 2)))\n",
    "\n",
    "model.add(layers.Flatten())\n",
    "model.add(layers.Dense(64, activation='relu'))\n",
    "model.add(layers.Dense(1, activation='sigmoid'))\n",
    "\n",
    "model.compile(loss='binary_crossentropy',\n",
    "              optimizer=\"sgd\",\n",
    "              metrics=['acc'])"
   ]
  },
  {
   "cell_type": "code",
   "execution_count": 35,
   "metadata": {
    "ExecuteTime": {
     "end_time": "2020-08-11T19:12:20.382331Z",
     "start_time": "2020-08-11T19:09:55.578945Z"
    }
   },
   "outputs": [
    {
     "name": "stdout",
     "output_type": "stream",
     "text": [
      "Train on 542 samples, validate on 200 samples\n",
      "Epoch 1/30\n",
      "542/542 [==============================] - 4s 8ms/step - loss: 0.6828 - acc: 0.5111 - val_loss: 0.6730 - val_acc: 0.5000\n",
      "Epoch 2/30\n",
      "542/542 [==============================] - 4s 7ms/step - loss: 0.6738 - acc: 0.5018 - val_loss: 0.6661 - val_acc: 0.5000\n",
      "Epoch 3/30\n",
      "542/542 [==============================] - 4s 7ms/step - loss: 0.6669 - acc: 0.5000 - val_loss: 0.6574 - val_acc: 0.5000\n",
      "Epoch 4/30\n",
      "542/542 [==============================] - 4s 8ms/step - loss: 0.6594 - acc: 0.5129 - val_loss: 0.6485 - val_acc: 0.5050\n",
      "Epoch 5/30\n",
      "542/542 [==============================] - 4s 8ms/step - loss: 0.6482 - acc: 0.5351 - val_loss: 0.6378 - val_acc: 0.5650\n",
      "Epoch 6/30\n",
      "542/542 [==============================] - 4s 8ms/step - loss: 0.6366 - acc: 0.6236 - val_loss: 0.6217 - val_acc: 0.5950\n",
      "Epoch 7/30\n",
      "542/542 [==============================] - 4s 8ms/step - loss: 0.6212 - acc: 0.6734 - val_loss: 0.6020 - val_acc: 0.6150\n",
      "Epoch 8/30\n",
      "542/542 [==============================] - 5s 10ms/step - loss: 0.6012 - acc: 0.7011 - val_loss: 0.5873 - val_acc: 0.8700\n",
      "Epoch 9/30\n",
      "542/542 [==============================] - 5s 9ms/step - loss: 0.5791 - acc: 0.7970 - val_loss: 0.5545 - val_acc: 0.6850\n",
      "Epoch 10/30\n",
      "542/542 [==============================] - 5s 9ms/step - loss: 0.5585 - acc: 0.7712 - val_loss: 0.5430 - val_acc: 0.6400\n",
      "Epoch 11/30\n",
      "542/542 [==============================] - 5s 9ms/step - loss: 0.5390 - acc: 0.7841 - val_loss: 0.4988 - val_acc: 0.7600\n",
      "Epoch 12/30\n",
      "542/542 [==============================] - 4s 8ms/step - loss: 0.5246 - acc: 0.7712 - val_loss: 0.4608 - val_acc: 0.9150\n",
      "Epoch 13/30\n",
      "542/542 [==============================] - 6s 10ms/step - loss: 0.5008 - acc: 0.7934 - val_loss: 0.4281 - val_acc: 0.9150\n",
      "Epoch 14/30\n",
      "542/542 [==============================] - 5s 9ms/step - loss: 0.5011 - acc: 0.8026 - val_loss: 0.4091 - val_acc: 0.9150\n",
      "Epoch 15/30\n",
      "542/542 [==============================] - 5s 9ms/step - loss: 0.4764 - acc: 0.8081 - val_loss: 0.4984 - val_acc: 0.7150\n",
      "Epoch 16/30\n",
      "542/542 [==============================] - 5s 9ms/step - loss: 0.4430 - acc: 0.8395 - val_loss: 0.4535 - val_acc: 0.7800\n",
      "Epoch 17/30\n",
      "542/542 [==============================] - 5s 9ms/step - loss: 0.4525 - acc: 0.7915 - val_loss: 0.3458 - val_acc: 0.9350\n",
      "Epoch 18/30\n",
      "542/542 [==============================] - 5s 9ms/step - loss: 0.3575 - acc: 0.8708 - val_loss: 0.3225 - val_acc: 0.9100\n",
      "Epoch 19/30\n",
      "542/542 [==============================] - 5s 9ms/step - loss: 0.4085 - acc: 0.8376 - val_loss: 0.4764 - val_acc: 0.7300\n",
      "Epoch 20/30\n",
      "542/542 [==============================] - 5s 10ms/step - loss: 0.4307 - acc: 0.7934 - val_loss: 0.3418 - val_acc: 0.8900\n",
      "Epoch 21/30\n",
      "542/542 [==============================] - 6s 10ms/step - loss: 0.3273 - acc: 0.8948 - val_loss: 0.2812 - val_acc: 0.9350\n",
      "Epoch 22/30\n",
      "542/542 [==============================] - 5s 10ms/step - loss: 0.3680 - acc: 0.8339 - val_loss: 0.2866 - val_acc: 0.9400\n",
      "Epoch 23/30\n",
      "542/542 [==============================] - 6s 11ms/step - loss: 0.2808 - acc: 0.9096 - val_loss: 0.3843 - val_acc: 0.8400\n",
      "Epoch 24/30\n",
      "542/542 [==============================] - 6s 12ms/step - loss: 0.3230 - acc: 0.8764 - val_loss: 0.2594 - val_acc: 0.9350\n",
      "Epoch 25/30\n",
      "542/542 [==============================] - 5s 8ms/step - loss: 0.2942 - acc: 0.8856 - val_loss: 0.2631 - val_acc: 0.9300\n",
      "Epoch 26/30\n",
      "542/542 [==============================] - 6s 11ms/step - loss: 0.2498 - acc: 0.9077 - val_loss: 0.6647 - val_acc: 0.7000\n",
      "Epoch 27/30\n",
      "542/542 [==============================] - 4s 8ms/step - loss: 0.3598 - acc: 0.8708 - val_loss: 0.2538 - val_acc: 0.9100\n",
      "Epoch 28/30\n",
      "542/542 [==============================] - 4s 8ms/step - loss: 0.2446 - acc: 0.9151 - val_loss: 0.2419 - val_acc: 0.9400\n",
      "Epoch 29/30\n",
      "542/542 [==============================] - 4s 8ms/step - loss: 0.3187 - acc: 0.8764 - val_loss: 0.2325 - val_acc: 0.9400\n",
      "Epoch 30/30\n",
      "542/542 [==============================] - 4s 7ms/step - loss: 0.2174 - acc: 0.9354 - val_loss: 0.2934 - val_acc: 0.9200\n"
     ]
    }
   ],
   "source": [
    "history = model.fit(train_images,\n",
    "                    train_y,\n",
    "                    epochs=30,\n",
    "                    batch_size=32,\n",
    "                    validation_data=(val_images, val_y))"
   ]
  },
  {
   "cell_type": "code",
   "execution_count": 36,
   "metadata": {
    "ExecuteTime": {
     "end_time": "2020-08-11T19:13:34.963160Z",
     "start_time": "2020-08-11T19:13:33.874646Z"
    }
   },
   "outputs": [
    {
     "name": "stdout",
     "output_type": "stream",
     "text": [
      "542/542 [==============================] - 1s 2ms/step\n"
     ]
    }
   ],
   "source": [
    "results_train = model.evaluate(train_images, train_y)"
   ]
  },
  {
   "cell_type": "code",
   "execution_count": 37,
   "metadata": {
    "ExecuteTime": {
     "end_time": "2020-08-11T19:13:37.686998Z",
     "start_time": "2020-08-11T19:13:37.307403Z"
    }
   },
   "outputs": [
    {
     "name": "stdout",
     "output_type": "stream",
     "text": [
      "180/180 [==============================] - 0s 2ms/step\n"
     ]
    }
   ],
   "source": [
    "results_test = model.evaluate(test_images, test_y)"
   ]
  },
  {
   "cell_type": "code",
   "execution_count": 38,
   "metadata": {
    "ExecuteTime": {
     "end_time": "2020-08-11T19:13:40.383537Z",
     "start_time": "2020-08-11T19:13:40.378026Z"
    }
   },
   "outputs": [
    {
     "data": {
      "text/plain": [
       "[0.24946324978147486, 0.920664205102463]"
      ]
     },
     "execution_count": 38,
     "metadata": {},
     "output_type": "execute_result"
    }
   ],
   "source": [
    "results_train"
   ]
  },
  {
   "cell_type": "code",
   "execution_count": 39,
   "metadata": {
    "ExecuteTime": {
     "end_time": "2020-08-11T19:13:42.082185Z",
     "start_time": "2020-08-11T19:13:42.077568Z"
    }
   },
   "outputs": [
    {
     "data": {
      "text/plain": [
       "[0.3409967409239875, 0.8888888915379842]"
      ]
     },
     "execution_count": 39,
     "metadata": {},
     "output_type": "execute_result"
    }
   ],
   "source": [
    "results_test"
   ]
  },
  {
   "cell_type": "markdown",
   "metadata": {},
   "source": [
    "## Data Augmentation"
   ]
  },
  {
   "cell_type": "markdown",
   "metadata": {},
   "source": [
    "`ImageDataGenerator()` becomes really useful when we *actually* want to generate more data. We'll show you how this works. "
   ]
  },
  {
   "cell_type": "code",
   "execution_count": 40,
   "metadata": {
    "ExecuteTime": {
     "end_time": "2020-08-11T19:14:34.495288Z",
     "start_time": "2020-08-11T19:14:34.491005Z"
    }
   },
   "outputs": [],
   "source": [
    "train_datagen = ImageDataGenerator(rescale=1./255, \n",
    "                                   rotation_range=40, \n",
    "                                   width_shift_range=0.2, \n",
    "                                   height_shift_range=0.2, \n",
    "                                   shear_range=0.3, \n",
    "                                   zoom_range=0.1, \n",
    "                                   horizontal_flip=False)"
   ]
  },
  {
   "cell_type": "code",
   "execution_count": 41,
   "metadata": {
    "ExecuteTime": {
     "end_time": "2020-08-11T19:14:41.933245Z",
     "start_time": "2020-08-11T19:14:40.983074Z"
    }
   },
   "outputs": [
    {
     "data": {
      "image/png": "[encoded data removed]",
      "text/plain": [
       "<Figure size 432x288 with 1 Axes>"
      ]
     },
     "metadata": {
      "needs_background": "light"
     },
     "output_type": "display_data"
    },
    {
     "data": {
      "image/png": "[encoded data removed]",
      "text/plain": [
       "<Figure size 432x288 with 1 Axes>"
      ]
     },
     "metadata": {
      "needs_background": "light"
     },
     "output_type": "display_data"
    },
    {
     "data": {
      "image/png": "[encoded data removed]",
      "text/plain": [
       "<Figure size 432x288 with 1 Axes>"
      ]
     },
     "metadata": {
      "needs_background": "light"
     },
     "output_type": "display_data"
    }
   ],
   "source": [
    "names = [os.path.join(train_santa, name) for name in os.listdir(train_santa)]\n",
    "img_path = names[91]\n",
    "img = load_img(img_path, target_size=(64, 64))\n",
    "\n",
    "reshape_img = img_to_array(img) \n",
    "reshape_img = reshape_img.reshape((1,) + reshape_img.shape) \n",
    "i=0\n",
    "for batch in train_datagen.flow(reshape_img, batch_size=1):\n",
    "    plt.figure(i)\n",
    "    imgplot = plt.imshow(array_to_img(batch[0]))\n",
    "    i += 1\n",
    "    if i % 3 == 0:\n",
    "        break\n",
    "plt.show()"
   ]
  },
  {
   "cell_type": "code",
   "execution_count": 42,
   "metadata": {
    "ExecuteTime": {
     "end_time": "2020-08-11T19:14:58.729214Z",
     "start_time": "2020-08-11T19:14:58.408664Z"
    }
   },
   "outputs": [
    {
     "name": "stdout",
     "output_type": "stream",
     "text": [
      "Found 180 images belonging to 2 classes.\n",
      "Found 200 images belonging to 2 classes.\n",
      "Found 542 images belonging to 2 classes.\n"
     ]
    }
   ],
   "source": [
    "# get all the data in the directory split/test (180 images), and reshape them\n",
    "test_generator = ImageDataGenerator(rescale=1./255).flow_from_directory(\n",
    "        test_folder, \n",
    "        target_size=(64, 64), \n",
    "        batch_size = 180,\n",
    "        class_mode='binary') \n",
    "\n",
    "# get all the data in the directory split/validation (200 images), and reshape them\n",
    "val_generator = ImageDataGenerator(rescale=1./255).flow_from_directory(\n",
    "        val_folder, \n",
    "        target_size=(64, 64),\n",
    "        batch_size = 32,\n",
    "        class_mode='binary')\n",
    "\n",
    "# get all the data in the directory split/train (542 images), and reshape them\n",
    "train_generator = train_datagen.flow_from_directory(\n",
    "        train_folder, \n",
    "        target_size=(64, 64), \n",
    "        batch_size = 32, \n",
    "        class_mode='binary')"
   ]
  },
  {
   "cell_type": "code",
   "execution_count": 43,
   "metadata": {
    "ExecuteTime": {
     "end_time": "2020-08-11T19:15:09.688753Z",
     "start_time": "2020-08-11T19:15:09.568109Z"
    }
   },
   "outputs": [],
   "source": [
    "model = models.Sequential()\n",
    "model.add(layers.Conv2D(32, (3, 3), activation='relu',\n",
    "                        input_shape=(64 ,64,  3)))\n",
    "model.add(layers.MaxPooling2D((2, 2)))\n",
    "\n",
    "model.add(layers.Conv2D(32, (4, 4), activation='relu'))\n",
    "model.add(layers.MaxPooling2D((2, 2)))\n",
    "\n",
    "model.add(layers.Conv2D(64, (3, 3), activation='relu'))\n",
    "model.add(layers.MaxPooling2D((2, 2)))\n",
    "\n",
    "model.add(layers.Flatten())\n",
    "model.add(layers.Dense(64, activation='relu'))\n",
    "model.add(layers.Dense(1, activation='sigmoid'))\n",
    "\n",
    "model.compile(loss='binary_crossentropy',\n",
    "              optimizer= 'sgd',\n",
    "              metrics=['acc'])"
   ]
  },
  {
   "cell_type": "code",
   "execution_count": 44,
   "metadata": {
    "ExecuteTime": {
     "end_time": "2020-08-11T19:34:25.850973Z",
     "start_time": "2020-08-11T19:15:12.313557Z"
    }
   },
   "outputs": [
    {
     "name": "stdout",
     "output_type": "stream",
     "text": [
      "Epoch 1/30\n",
      "25/25 [==============================] - 40s 2s/step - loss: 0.6863 - acc: 0.5085 - val_loss: 0.6747 - val_acc: 0.5041\n",
      "Epoch 2/30\n",
      "25/25 [==============================] - 36s 1s/step - loss: 0.6802 - acc: 0.5003 - val_loss: 0.6709 - val_acc: 0.4915\n",
      "Epoch 3/30\n",
      "25/25 [==============================] - 41s 2s/step - loss: 0.6729 - acc: 0.5029 - val_loss: 0.6610 - val_acc: 0.5041\n",
      "Epoch 4/30\n",
      "25/25 [==============================] - 40s 2s/step - loss: 0.6687 - acc: 0.4963 - val_loss: 0.6504 - val_acc: 0.5057\n",
      "Epoch 5/30\n",
      "25/25 [==============================] - 42s 2s/step - loss: 0.6571 - acc: 0.5190 - val_loss: 0.6441 - val_acc: 0.4986\n",
      "Epoch 6/30\n",
      "25/25 [==============================] - 36s 1s/step - loss: 0.6475 - acc: 0.5490 - val_loss: 0.6269 - val_acc: 0.5085\n",
      "Epoch 7/30\n",
      "25/25 [==============================] - 41s 2s/step - loss: 0.6346 - acc: 0.5877 - val_loss: 0.6117 - val_acc: 0.5085\n",
      "Epoch 8/30\n",
      "25/25 [==============================] - 31s 1s/step - loss: 0.6169 - acc: 0.6983 - val_loss: 0.5826 - val_acc: 0.8063\n",
      "Epoch 9/30\n",
      "25/25 [==============================] - 41s 2s/step - loss: 0.5829 - acc: 0.7672 - val_loss: 0.5430 - val_acc: 0.8750\n",
      "Epoch 10/30\n",
      "25/25 [==============================] - 30s 1s/step - loss: 0.5609 - acc: 0.7907 - val_loss: 0.5698 - val_acc: 0.5343\n",
      "Epoch 11/30\n",
      "25/25 [==============================] - 44s 2s/step - loss: 0.5271 - acc: 0.7835 - val_loss: 0.4547 - val_acc: 0.9134\n",
      "Epoch 12/30\n",
      "25/25 [==============================] - 35s 1s/step - loss: 0.5046 - acc: 0.7894 - val_loss: 0.5051 - val_acc: 0.7473\n",
      "Epoch 13/30\n",
      "25/25 [==============================] - 41s 2s/step - loss: 0.4762 - acc: 0.8047 - val_loss: 0.4478 - val_acc: 0.7926\n",
      "Epoch 14/30\n",
      "25/25 [==============================] - 35s 1s/step - loss: 0.4352 - acc: 0.8267 - val_loss: 0.3225 - val_acc: 0.9304\n",
      "Epoch 15/30\n",
      "25/25 [==============================] - 37s 1s/step - loss: 0.4541 - acc: 0.7806 - val_loss: 0.6935 - val_acc: 0.5604\n",
      "Epoch 16/30\n",
      "25/25 [==============================] - 35s 1s/step - loss: 0.3685 - acc: 0.8596 - val_loss: 0.2860 - val_acc: 0.9205\n",
      "Epoch 17/30\n",
      "25/25 [==============================] - 36s 1s/step - loss: 0.3873 - acc: 0.8395 - val_loss: 0.2910 - val_acc: 0.9258\n",
      "Epoch 18/30\n",
      "25/25 [==============================] - 35s 1s/step - loss: 0.3283 - acc: 0.8858 - val_loss: 0.2856 - val_acc: 0.9162\n",
      "Epoch 19/30\n",
      "25/25 [==============================] - 36s 1s/step - loss: 0.3021 - acc: 0.8861 - val_loss: 0.2652 - val_acc: 0.9341\n",
      "Epoch 20/30\n",
      "25/25 [==============================] - 42s 2s/step - loss: 0.3381 - acc: 0.8531 - val_loss: 0.4107 - val_acc: 0.8423\n",
      "Epoch 21/30\n",
      "25/25 [==============================] - 40s 2s/step - loss: 0.2472 - acc: 0.9057 - val_loss: 0.2913 - val_acc: 0.9034\n",
      "Epoch 22/30\n",
      "25/25 [==============================] - 40s 2s/step - loss: 0.3450 - acc: 0.8607 - val_loss: 0.2958 - val_acc: 0.8874\n",
      "Epoch 23/30\n",
      "25/25 [==============================] - 38s 2s/step - loss: 0.2604 - acc: 0.9048 - val_loss: 0.2158 - val_acc: 0.9332\n",
      "Epoch 24/30\n",
      "25/25 [==============================] - 45s 2s/step - loss: 0.2126 - acc: 0.9272 - val_loss: 0.2172 - val_acc: 0.9327\n",
      "Epoch 25/30\n",
      "25/25 [==============================] - 39s 2s/step - loss: 0.2785 - acc: 0.8909 - val_loss: 0.3038 - val_acc: 0.9134\n",
      "Epoch 26/30\n",
      "25/25 [==============================] - 45s 2s/step - loss: 0.2488 - acc: 0.8997 - val_loss: 0.3589 - val_acc: 0.8997\n",
      "Epoch 27/30\n",
      "25/25 [==============================] - 37s 1s/step - loss: 0.2456 - acc: 0.9095 - val_loss: 0.2467 - val_acc: 0.9332\n",
      "Epoch 28/30\n",
      "25/25 [==============================] - 43s 2s/step - loss: 0.2098 - acc: 0.9173 - val_loss: 0.2401 - val_acc: 0.9332\n",
      "Epoch 29/30\n",
      "25/25 [==============================] - 32s 1s/step - loss: 0.2430 - acc: 0.9021 - val_loss: 0.2324 - val_acc: 0.9313\n",
      "Epoch 30/30\n",
      "25/25 [==============================] - 40s 2s/step - loss: 0.2184 - acc: 0.9162 - val_loss: 0.2995 - val_acc: 0.9077\n"
     ]
    }
   ],
   "source": [
    "history_2 = model.fit_generator(train_generator, \n",
    "                                steps_per_epoch=25, \n",
    "                                epochs=30, \n",
    "                                validation_data=val_generator, \n",
    "                                validation_steps=25)"
   ]
  },
  {
   "cell_type": "code",
   "execution_count": 45,
   "metadata": {
    "ExecuteTime": {
     "end_time": "2020-08-11T19:37:08.856013Z",
     "start_time": "2020-08-11T19:37:03.553569Z"
    }
   },
   "outputs": [],
   "source": [
    "test_x, test_y = next(test_generator)"
   ]
  },
  {
   "cell_type": "code",
   "execution_count": 46,
   "metadata": {
    "ExecuteTime": {
     "end_time": "2020-08-11T19:37:10.323735Z",
     "start_time": "2020-08-11T19:37:09.932563Z"
    }
   },
   "outputs": [
    {
     "name": "stdout",
     "output_type": "stream",
     "text": [
      "180/180 [==============================] - 0s 2ms/step\n"
     ]
    }
   ],
   "source": [
    "results_test = model.evaluate(test_x, test_y)"
   ]
  },
  {
   "cell_type": "code",
   "execution_count": 47,
   "metadata": {
    "ExecuteTime": {
     "end_time": "2020-08-11T19:37:11.951432Z",
     "start_time": "2020-08-11T19:37:11.946543Z"
    }
   },
   "outputs": [
    {
     "data": {
      "text/plain": [
       "[0.3732220623228285, 0.8555555568801032]"
      ]
     },
     "execution_count": 47,
     "metadata": {},
     "output_type": "execute_result"
    }
   ],
   "source": [
    "results_test"
   ]
  },
  {
   "cell_type": "markdown",
   "metadata": {},
   "source": [
    "## Summary  \n",
    "\n",
    "In this code along lab, we looked again at some of the preprocessing techniques needed in order to organize our data prior to building a model using Keras. Afterwards, we investigated new code in order to build a CNN for image recognition."
   ]
  }
 ],
 "metadata": {
  "kernelspec": {
   "display_name": "learn-env",
   "language": "python",
   "name": "learn-env"
  },
  "language_info": {
   "codemirror_mode": {
    "name": "ipython",
    "version": 3
   },
   "file_extension": ".py",
   "mimetype": "text/x-python",
   "name": "python",
   "nbconvert_exporter": "python",
   "pygments_lexer": "ipython3",
   "version": "3.6.9"
  },
  "toc": {
   "base_numbering": 1,
   "nav_menu": {},
   "number_sections": true,
   "sideBar": true,
   "skip_h1_title": false,
   "title_cell": "Table of Contents",
   "title_sidebar": "Contents",
   "toc_cell": false,
   "toc_position": {},
   "toc_section_display": true,
   "toc_window_display": false
  },
  "varInspector": {
   "cols": {
    "lenName": 16,
    "lenType": 16,
    "lenVar": 40
   },
   "kernels_config": {
    "python": {
     "delete_cmd_postfix": "",
     "delete_cmd_prefix": "del ",
     "library": "var_list.py",
     "varRefreshCmd": "print(var_dic_list())"
    },
    "r": {
     "delete_cmd_postfix": ") ",
     "delete_cmd_prefix": "rm(",
     "library": "var_list.r",
     "varRefreshCmd": "cat(var_dic_list()) "
    }
   },
   "types_to_exclude": [
    "module",
    "function",
    "builtin_function_or_method",
    "instance",
    "_Feature"
   ],
   "window_display": false
  }
 },
 "nbformat": 4,
 "nbformat_minor": 2
}
